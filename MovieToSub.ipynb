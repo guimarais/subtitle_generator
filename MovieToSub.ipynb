{
 "cells": [
  {
   "cell_type": "code",
   "execution_count": 1,
   "id": "85878eaf-c24a-4d19-9775-96fc18c19674",
   "metadata": {},
   "outputs": [],
   "source": [
    "import speech_recognition as sr\n",
    "import moviepy.editor as mp\n",
    "import subprocess\n",
    "from pydub import AudioSegment\n",
    "from pydub.silence import detect_nonsilent\n",
    "from pydub.silence import split_on_silence\n",
    "import numpy as np\n",
    "import sys\n",
    "import os\n",
    "from googletrans import Translator\n",
    "from convert_millis_srt import convert_millis_srt"
   ]
  },
  {
   "cell_type": "code",
   "execution_count": 2,
   "id": "49410a47-7063-4a2a-8c0a-1e4ad557efcb",
   "metadata": {},
   "outputs": [],
   "source": [
    "def extractAudio(input_file, audio_file_name):\n",
    "    \"\"\"\n",
    "    Extracts the audio of a video file into a wav file, for easyness of conversion\n",
    "    \"\"\"\n",
    "    command = \"ffmpeg -hide_banner -loglevel warning -i {} -b:a 192k -ac 1 -ar 16000 -vn {}\".format(input_file, audio_file_name)\n",
    "\n",
    "    try:\n",
    "        ret = subprocess.call(command, shell=True)\n",
    "        print(\"Extracted audio to audio/{}\".format(audio_file_name.split(\"/\")[-1]))\n",
    "    except Exception as e:\n",
    "        print(\"Error: \", str(e))\n",
    "        exit(1)"
   ]
  },
  {
   "cell_type": "code",
   "execution_count": 3,
   "id": "3af2d336-3ea9-4aa3-957d-16f4531e18c6",
   "metadata": {},
   "outputs": [
    {
     "name": "stdout",
     "output_type": "stream",
     "text": [
      "Extracted audio to audio/dassens.wav\n"
     ]
    },
    {
     "name": "stderr",
     "output_type": "stream",
     "text": [
      "File 'dassens.wav' already exists. Overwrite? [y/N] Not overwriting - exiting\n"
     ]
    }
   ],
   "source": [
    "fileaudio = \"dassens.wav\"\n",
    "\n",
    "extractAudio(\"dassens.mp4\", fileaudio)"
   ]
  },
  {
   "cell_type": "code",
   "execution_count": 4,
   "id": "b79e0e2d-3496-4c87-b029-778355b70e7d",
   "metadata": {},
   "outputs": [],
   "source": [
    "#adjust target amplitude\n",
    "#def match_target_amplitude(sound, target_dBFS):\n",
    "#    change_in_dBFS = target_dBFS - sound.dBFS\n",
    "#    return sound.apply_gain(change_in_dBFS)\n",
    "\n",
    "#Convert wav to audio_segment\n",
    "belowFS = 12\n",
    "\n",
    "audio_segment = AudioSegment.from_wav(fileaudio)\n",
    "nonsilent_data = detect_nonsilent(audio_segment,\n",
    "                                  min_silence_len=500,\n",
    "                                  silence_thresh=audio_segment.dBFS-belowFS,\n",
    "                                  seek_step=1)\n",
    "\n",
    "#ind = 1\n",
    "#for chunk in nonsilent_data:\n",
    "#    print(ind)\n",
    "#    str_times = convert_millis_srt(chunk[0]) + \" --> \" + convert_millis_srt(chunk[1])\n",
    "#    print(str_times)    \n",
    "#    print(\"\")\n",
    "#    ind += 1"
   ]
  },
  {
   "cell_type": "code",
   "execution_count": 5,
   "id": "81a829ef-dec2-49ce-b1f3-c359241a3828",
   "metadata": {},
   "outputs": [],
   "source": [
    "sound = AudioSegment.from_wav(fileaudio)  \n",
    "\n",
    "# split audio sound where silence is 700 miliseconds or more and get chunks\n",
    "chunks = split_on_silence(sound,\n",
    "                          # experiment with this value for your target audio file\n",
    "                          min_silence_len = 500,\n",
    "                          # adjust this per requirement\n",
    "                          silence_thresh = sound.dBFS-belowFS,\n",
    "                          # keep the silence for 1 second, adjustable as well\n",
    "                          keep_silence=500)\n",
    "    \n",
    "folder_name = \"audio-chunks\"\n",
    "# create a directory to store the audio chunks\n",
    "if not os.path.isdir(folder_name):\n",
    "    os.mkdir(folder_name)"
   ]
  },
  {
   "cell_type": "code",
   "execution_count": 6,
   "id": "b36dee3c-9b0c-4d06-8fb3-e2f783376b87",
   "metadata": {},
   "outputs": [
    {
     "name": "stdout",
     "output_type": "stream",
     "text": [
      "Error: \n",
      "Error: \n",
      "Error: \n",
      "Error: \n",
      "Error: \n"
     ]
    }
   ],
   "source": [
    "# Audio language\n",
    "#language_audio = 'pt-PT'\n",
    "language_audio = 'nl-NL'\n",
    "\n",
    "# Destination language\n",
    "language_subtitles = 'en'\n",
    "\n",
    "# Speech recognizer instance\n",
    "recognizer = sr.Recognizer()\n",
    "\n",
    "# Translator\n",
    "translator = Translator()\n",
    "\n",
    "f = open(\"srts2.srt\", \"w\")\n",
    "\n",
    "for i, audio_chunk in enumerate(chunks, start=1):\n",
    "    # export audio chunk and save it in\n",
    "    # the `folder_name` directory.\n",
    "    chunk_filename = os.path.join(folder_name, f\"chunk{i}.wav\")\n",
    "    audio_chunk.export(chunk_filename, format=\"wav\")\n",
    "\n",
    "    with sr.AudioFile(chunk_filename) as source:\n",
    "        audio_listened = recognizer.record(source)\n",
    "        # try converting it to text\n",
    "        try:\n",
    "            text = recognizer.recognize_google(audio_listened, language=language_audio)\n",
    "        except sr.UnknownValueError as e:\n",
    "            print(\"Error:\", str(e))\n",
    "        else:\n",
    "            text = f\"{text.capitalize()}. \"\n",
    "                \n",
    "    f.write(str(i))\n",
    "    f.write(\"\\n\")\n",
    "    str_times = convert_millis_srt(nonsilent_data[i-1][0]) + \" --> \" + convert_millis_srt(nonsilent_data[i-1][1])\n",
    "    f.write(str_times)\n",
    "    f.write(\"\\n\")\n",
    "\n",
    "    if language_audio[:2] == language_subtitles:\n",
    "        f.write(text)\n",
    "    else:\n",
    "        translated = translator.translate(text, dest=language_subtitles, src=language_audio[:2])\n",
    "        f.write(translated.text)\n",
    "        \n",
    "    f.write(\"\\n\")\n",
    "    f.write(\"\")\n",
    "    f.write(\"\\n\")\n",
    "    \n",
    "f.close()"
   ]
  },
  {
   "cell_type": "code",
   "execution_count": null,
   "id": "1c00a7a8-0199-42cb-a3b4-5507be785dd2",
   "metadata": {},
   "outputs": [],
   "source": []
  }
 ],
 "metadata": {
  "kernelspec": {
   "display_name": "Python 3 (ipykernel)",
   "language": "python",
   "name": "python3"
  },
  "language_info": {
   "codemirror_mode": {
    "name": "ipython",
    "version": 3
   },
   "file_extension": ".py",
   "mimetype": "text/x-python",
   "name": "python",
   "nbconvert_exporter": "python",
   "pygments_lexer": "ipython3",
   "version": "3.10.6"
  }
 },
 "nbformat": 4,
 "nbformat_minor": 5
}
